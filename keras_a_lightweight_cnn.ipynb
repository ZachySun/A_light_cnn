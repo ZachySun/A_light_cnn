{
 "cells": [
  {
   "cell_type": "code",
   "execution_count": 147,
   "id": "secure-invite",
   "metadata": {},
   "outputs": [],
   "source": [
    "# Libraries\n",
    "import os\n",
    "import numpy as np\n",
    "import pandas as pd\n",
    "import cv2\n",
    "import matplotlib.pyplot as plt\n",
    "\n",
    "import warnings\n",
    "warnings.filterwarnings('ignore')\n",
    "\n",
    "from sklearn.utils import shuffle\n",
    "\n",
    "import keras\n",
    "import tensorflow as tf\n",
    "from sklearn.model_selection import train_test_split\n",
    "import itertools\n",
    "\n",
    "from keras import layers\n",
    "from keras import regularizers\n",
    "from keras.preprocessing import image\n",
    "from keras.preprocessing.image import ImageDataGenerator\n",
    "from keras.callbacks import ReduceLROnPlateau\n",
    "from keras.models import Sequential, Model\n",
    "from keras.layers import Dense, Activation, Flatten, Dropout, concatenate, Input, Conv2D, MaxPooling2D\n",
    "from keras.optimizers import Adam, Adadelta\n",
    "from keras.layers.advanced_activations import LeakyReLU\n",
    "from keras.utils.np_utils import to_categorical\n",
    "import tensorflow.keras.optimizers as Optimizer"
   ]
  },
  {
   "cell_type": "code",
   "execution_count": 80,
   "id": "desperate-snowboard",
   "metadata": {},
   "outputs": [],
   "source": [
    "# Load data\n",
    "train_dir = r'F:\\dataset\\DiseaseGrading\\Original_Images\\Train'\n",
    "test_dir = r'F:\\dataset\\DiseaseGrading\\Original_Images\\Test'\n",
    "train_cate = pd.read_csv(r'F:\\dataset\\DiseaseGrading\\Groundtruths\\Train_Labels.csv')\n",
    "test_cate = pd.read_csv(r'F:\\dataset\\DiseaseGrading\\Groundtruths\\Test_Labels.csv')"
   ]
  },
  {
   "cell_type": "code",
   "execution_count": 81,
   "id": "latest-maryland",
   "metadata": {},
   "outputs": [
    {
     "data": {
      "text/html": [
       "<div>\n",
       "<style scoped>\n",
       "    .dataframe tbody tr th:only-of-type {\n",
       "        vertical-align: middle;\n",
       "    }\n",
       "\n",
       "    .dataframe tbody tr th {\n",
       "        vertical-align: top;\n",
       "    }\n",
       "\n",
       "    .dataframe thead th {\n",
       "        text-align: right;\n",
       "    }\n",
       "</style>\n",
       "<table border=\"1\" class=\"dataframe\">\n",
       "  <thead>\n",
       "    <tr style=\"text-align: right;\">\n",
       "      <th></th>\n",
       "      <th>Image_name</th>\n",
       "      <th>Retinopathy grade</th>\n",
       "      <th>Risk of macular edema</th>\n",
       "    </tr>\n",
       "  </thead>\n",
       "  <tbody>\n",
       "    <tr>\n",
       "      <th>0</th>\n",
       "      <td>IDRiD_001</td>\n",
       "      <td>3</td>\n",
       "      <td>2</td>\n",
       "    </tr>\n",
       "    <tr>\n",
       "      <th>1</th>\n",
       "      <td>IDRiD_002</td>\n",
       "      <td>3</td>\n",
       "      <td>2</td>\n",
       "    </tr>\n",
       "    <tr>\n",
       "      <th>2</th>\n",
       "      <td>IDRiD_003</td>\n",
       "      <td>2</td>\n",
       "      <td>2</td>\n",
       "    </tr>\n",
       "    <tr>\n",
       "      <th>3</th>\n",
       "      <td>IDRiD_004</td>\n",
       "      <td>3</td>\n",
       "      <td>2</td>\n",
       "    </tr>\n",
       "    <tr>\n",
       "      <th>4</th>\n",
       "      <td>IDRiD_005</td>\n",
       "      <td>4</td>\n",
       "      <td>0</td>\n",
       "    </tr>\n",
       "  </tbody>\n",
       "</table>\n",
       "</div>"
      ],
      "text/plain": [
       "  Image_name  Retinopathy grade  Risk of macular edema \n",
       "0  IDRiD_001                  3                       2\n",
       "1  IDRiD_002                  3                       2\n",
       "2  IDRiD_003                  2                       2\n",
       "3  IDRiD_004                  3                       2\n",
       "4  IDRiD_005                  4                       0"
      ]
     },
     "execution_count": 81,
     "metadata": {},
     "output_type": "execute_result"
    }
   ],
   "source": [
    "train_cate.head()"
   ]
  },
  {
   "cell_type": "code",
   "execution_count": 102,
   "id": "expensive-postage",
   "metadata": {},
   "outputs": [
    {
     "data": {
      "text/plain": [
       "array([3], dtype=int64)"
      ]
     },
     "execution_count": 102,
     "metadata": {},
     "output_type": "execute_result"
    }
   ],
   "source": [
    "np.array(train_cate[train_cate['Image_name']=='IDRiD_001']['Retinopathy grade'])"
   ]
  },
  {
   "cell_type": "code",
   "execution_count": 37,
   "id": "pointed-chair",
   "metadata": {},
   "outputs": [
    {
     "data": {
      "text/html": [
       "<div>\n",
       "<style scoped>\n",
       "    .dataframe tbody tr th:only-of-type {\n",
       "        vertical-align: middle;\n",
       "    }\n",
       "\n",
       "    .dataframe tbody tr th {\n",
       "        vertical-align: top;\n",
       "    }\n",
       "\n",
       "    .dataframe thead th {\n",
       "        text-align: right;\n",
       "    }\n",
       "</style>\n",
       "<table border=\"1\" class=\"dataframe\">\n",
       "  <thead>\n",
       "    <tr style=\"text-align: right;\">\n",
       "      <th></th>\n",
       "      <th>Image name</th>\n",
       "      <th>Retinopathy grade</th>\n",
       "      <th>Risk of macular edema</th>\n",
       "    </tr>\n",
       "  </thead>\n",
       "  <tbody>\n",
       "    <tr>\n",
       "      <th>0</th>\n",
       "      <td>IDRiD_001</td>\n",
       "      <td>4</td>\n",
       "      <td>0</td>\n",
       "    </tr>\n",
       "    <tr>\n",
       "      <th>1</th>\n",
       "      <td>IDRiD_002</td>\n",
       "      <td>4</td>\n",
       "      <td>1</td>\n",
       "    </tr>\n",
       "    <tr>\n",
       "      <th>2</th>\n",
       "      <td>IDRiD_003</td>\n",
       "      <td>4</td>\n",
       "      <td>0</td>\n",
       "    </tr>\n",
       "    <tr>\n",
       "      <th>3</th>\n",
       "      <td>IDRiD_004</td>\n",
       "      <td>4</td>\n",
       "      <td>0</td>\n",
       "    </tr>\n",
       "    <tr>\n",
       "      <th>4</th>\n",
       "      <td>IDRiD_005</td>\n",
       "      <td>4</td>\n",
       "      <td>1</td>\n",
       "    </tr>\n",
       "  </tbody>\n",
       "</table>\n",
       "</div>"
      ],
      "text/plain": [
       "  Image name  Retinopathy grade  Risk of macular edema \n",
       "0  IDRiD_001                  4                       0\n",
       "1  IDRiD_002                  4                       1\n",
       "2  IDRiD_003                  4                       0\n",
       "3  IDRiD_004                  4                       0\n",
       "4  IDRiD_005                  4                       1"
      ]
     },
     "execution_count": 37,
     "metadata": {},
     "output_type": "execute_result"
    }
   ],
   "source": [
    "test_cate.head()"
   ]
  },
  {
   "cell_type": "code",
   "execution_count": 166,
   "id": "spare-tournament",
   "metadata": {},
   "outputs": [],
   "source": [
    "# Get data and labels\n",
    "train_data = []\n",
    "train_labels = []\n",
    "\n",
    "def get_images(image_dir, labels_dir):\n",
    "    \n",
    "    for image_file in os.listdir(image_dir):\n",
    "        image = cv2.imread(image_dir+r'/'+image_file)\n",
    "        image = cv2.resize(image,(227,227))\n",
    "        train_data.append(image)\n",
    "        labels = pd.read_csv(labels_dir)\n",
    "        label = list(labels[labels['Image_name'] + '.jpg' ==  image_file]['Retinopathy grade'])\n",
    "        train_labels.append(label)\n",
    "    \n",
    "    return shuffle(train_data,train_labels,random_state=7)"
   ]
  },
  {
   "cell_type": "code",
   "execution_count": 167,
   "id": "julian-outline",
   "metadata": {},
   "outputs": [],
   "source": [
    "train_data, train_labels = get_images(r'F:\\dataset\\DiseaseGrading\\Original_Images\\Train', r'F:\\dataset\\DiseaseGrading\\Groundtruths\\Train_Labels.csv')"
   ]
  },
  {
   "cell_type": "code",
   "execution_count": 168,
   "id": "deluxe-source",
   "metadata": {},
   "outputs": [],
   "source": [
    "train_data = np.array(train_data)\n",
    "train_labels = np.array(train_labels)"
   ]
  },
  {
   "cell_type": "code",
   "execution_count": 169,
   "id": "sticky-desktop",
   "metadata": {},
   "outputs": [
    {
     "data": {
      "text/plain": [
       "(413, 227, 227, 3)"
      ]
     },
     "execution_count": 169,
     "metadata": {},
     "output_type": "execute_result"
    }
   ],
   "source": [
    "train_data.shape"
   ]
  },
  {
   "cell_type": "code",
   "execution_count": 170,
   "id": "improved-ghost",
   "metadata": {},
   "outputs": [
    {
     "data": {
      "text/plain": [
       "(413, 1)"
      ]
     },
     "execution_count": 170,
     "metadata": {},
     "output_type": "execute_result"
    }
   ],
   "source": [
    "train_labels.shape"
   ]
  },
  {
   "cell_type": "code",
   "execution_count": 171,
   "id": "twenty-judges",
   "metadata": {},
   "outputs": [
    {
     "data": {
      "text/plain": [
       "array([2, 0, 2, 4, 1, 0, 2, 3, 2, 2, 0, 3, 2, 4, 0, 0, 0, 3, 4, 3, 1, 3,\n",
       "       3, 2, 0, 0, 2, 2, 2, 4, 4, 2, 2, 1, 0, 4, 2, 4, 4, 4, 0, 3, 2, 3,\n",
       "       0, 2, 3, 3, 3, 0, 2, 0, 3, 2, 2, 3, 3, 4, 2, 2, 3, 0, 0, 1, 2, 0,\n",
       "       0, 0, 4, 2, 0, 0, 2, 2, 0, 0, 0, 4, 2, 3, 1, 0, 2, 4, 3, 2, 0, 0,\n",
       "       2, 2, 0, 2, 0, 3, 0, 4, 4, 0, 3, 2, 2, 0, 2, 4, 0, 0, 0, 2, 2, 0,\n",
       "       2, 4, 4, 2, 2, 0, 1, 4, 0, 2, 2, 2, 2, 0, 0, 3, 0, 0, 2, 3, 1, 0,\n",
       "       4, 0, 4, 0, 2, 2, 2, 2, 0, 2, 2, 3, 2, 3, 1, 2, 4, 2, 2, 0, 0, 0,\n",
       "       0, 0, 3, 4, 0, 2, 3, 4, 2, 2, 2, 3, 3, 2, 1, 0, 2, 2, 2, 3, 3, 2,\n",
       "       0, 3, 2, 1, 2, 3, 1, 3, 0, 0, 0, 3, 0, 1, 4, 4, 2, 0, 3, 4, 2, 2,\n",
       "       0, 3, 3, 0, 2, 3, 0, 2, 0, 2, 2, 2, 3, 3, 0, 0, 2, 0, 4, 0, 0, 3,\n",
       "       3, 0, 0, 1, 3, 0, 4, 1, 2, 2, 0, 3, 2, 2, 0, 2, 0, 3, 0, 3, 4, 3,\n",
       "       0, 0, 4, 2, 4, 0, 1, 4, 3, 4, 3, 2, 2, 4, 0, 2, 4, 0, 0, 0, 2, 2,\n",
       "       2, 2, 2, 0, 0, 1, 2, 0, 3, 0, 4, 0, 2, 3, 3, 3, 0, 3, 2, 2, 2, 2,\n",
       "       4, 2, 0, 2, 2, 2, 2, 0, 2, 2, 2, 2, 4, 0, 0, 3, 1, 0, 2, 0, 0, 0,\n",
       "       0, 0, 2, 4, 2, 3, 2, 2, 3, 4, 2, 0, 0, 3, 0, 2, 3, 2, 0, 4, 3, 0,\n",
       "       3, 3, 0, 2, 0, 0, 2, 4, 2, 2, 3, 0, 2, 0, 2, 3, 0, 4, 2, 0, 2, 0,\n",
       "       0, 2, 3, 0, 0, 0, 0, 3, 2, 2, 3, 2, 2, 0, 0, 2, 1, 2, 3, 0, 2, 3,\n",
       "       0, 3, 1, 0, 2, 2, 0, 0, 4, 2, 3, 2, 0, 4, 0, 0, 2, 3, 4, 3, 2, 0,\n",
       "       0, 0, 2, 0, 0, 2, 4, 0, 2, 3, 4, 1, 0, 2, 3, 0, 0])"
      ]
     },
     "execution_count": 171,
     "metadata": {},
     "output_type": "execute_result"
    }
   ],
   "source": [
    "train_labels.reshape(413)"
   ]
  },
  {
   "cell_type": "code",
   "execution_count": 137,
   "id": "western-walter",
   "metadata": {},
   "outputs": [],
   "source": [
    "# for image_file in os.listdir(r'F:\\dataset\\DiseaseGrading\\Original_Images\\Train'):\n",
    "#     print(image_file)"
   ]
  },
  {
   "cell_type": "code",
   "execution_count": 161,
   "id": "olympic-diana",
   "metadata": {},
   "outputs": [],
   "source": [
    "# train_labels = to_categorical(train_labels)"
   ]
  },
  {
   "cell_type": "code",
   "execution_count": 162,
   "id": "interstate-moses",
   "metadata": {},
   "outputs": [
    {
     "data": {
      "text/plain": [
       "array([[0., 0., 1., 0., 0.],\n",
       "       [1., 0., 0., 0., 0.],\n",
       "       [0., 0., 1., 0., 0.],\n",
       "       ...,\n",
       "       [0., 0., 0., 1., 0.],\n",
       "       [1., 0., 0., 0., 0.],\n",
       "       [1., 0., 0., 0., 0.]], dtype=float32)"
      ]
     },
     "execution_count": 162,
     "metadata": {},
     "output_type": "execute_result"
    }
   ],
   "source": [
    "# train_labels"
   ]
  },
  {
   "cell_type": "code",
   "execution_count": 144,
   "id": "private-emphasis",
   "metadata": {},
   "outputs": [],
   "source": [
    "# Build cnn model\n",
    "model = keras.Sequential([\n",
    "tf.keras.Input(shape = (227, 227, 3)),\n",
    "layers.Conv2D (64, (5,5), strides=(1, 1), padding='same', kernel_regularizer = regularizers.l2(0.001), \n",
    "               bias_regularizer = regularizers.l2(0.001)),\n",
    "layers.ReLU(negative_slope= 1),\n",
    "layers.BatchNormalization(),\n",
    "layers.MaxPooling2D(pool_size=(2, 2), padding=\"same\"),\n",
    "\n",
    "layers.Conv2D (64, (5,5), strides=(1, 1), padding='same', kernel_regularizer = regularizers.l2(0.001), \n",
    "               bias_regularizer = regularizers.l2(0.001)),\n",
    "layers.ReLU(negative_slope = 1),\n",
    "layers.BatchNormalization(),\n",
    "layers.MaxPooling2D(pool_size=(2, 2)),\n",
    "\n",
    "layers.Conv2D (128, (5,5), strides=(1, 1), padding='same', kernel_regularizer = regularizers.l2(0.001), \n",
    "               bias_regularizer = regularizers.l2(0.001)),\n",
    "layers.ReLU(negative_slope = 1),\n",
    "layers.BatchNormalization(),\n",
    "layers.MaxPooling2D(pool_size=(2, 2)),\n",
    "\n",
    "layers.Conv2D (256, (3,3), strides=(1, 1), padding='same', kernel_regularizer = regularizers.l2(0.001), \n",
    "               bias_regularizer = regularizers.l2(0.001)),\n",
    "layers.ReLU(negative_slope = 1),\n",
    "layers.BatchNormalization(),\n",
    "layers.MaxPooling2D(pool_size=(2, 2), padding=\"same\"),\n",
    "\n",
    "layers.Conv2D (512, (3,3), strides=(1, 1), padding='same', kernel_regularizer = regularizers.l2(0.001), \n",
    "               bias_regularizer = regularizers.l2(0.001)),\n",
    "layers.ReLU(negative_slope = 1), #negative slope 1 is good\n",
    "layers.BatchNormalization(),\n",
    "layers.MaxPooling2D(pool_size=(2, 2), padding=\"same\"),\n",
    "\n",
    "layers.Conv2D (1024, (1,1), strides=(1, 1), padding='same', kernel_regularizer = regularizers.l2(0.001), \n",
    "               bias_regularizer = regularizers.l2(0.001)),\n",
    "layers.ReLU(negative_slope = 1),\n",
    "layers.BatchNormalization(),\n",
    "layers.MaxPooling2D(pool_size=(2, 2), padding=\"same\"),\n",
    "layers.MaxPooling2D(pool_size=(3, 3), padding=\"same\"),\n",
    "layers.Reshape((1, 4096)),\n",
    "layers.Dense(1024, kernel_regularizer = regularizers.l2(0.001), bias_regularizer = regularizers.l2(0.001)),\n",
    "layers.ReLU(negative_slope = 1),\n",
    "layers.Dropout(0.5),\n",
    "layers.Dense(32, name=\"my_intermediate_layer\", kernel_regularizer = regularizers.l2(0.001), \n",
    "             bias_regularizer = regularizers.l2(0.001)),\n",
    "layers.ReLU(negative_slope = 1),\n",
    "layers.Dense(5, activation='softmax', name=\"my_last_layer\"),\n",
    "])"
   ]
  },
  {
   "cell_type": "code",
   "execution_count": 145,
   "id": "synthetic-completion",
   "metadata": {},
   "outputs": [
    {
     "name": "stdout",
     "output_type": "stream",
     "text": [
      "Model: \"sequential_2\"\n",
      "_________________________________________________________________\n",
      "Layer (type)                 Output Shape              Param #   \n",
      "=================================================================\n",
      "conv2d_12 (Conv2D)           (None, 227, 227, 64)      4864      \n",
      "_________________________________________________________________\n",
      "re_lu_15 (ReLU)              (None, 227, 227, 64)      0         \n",
      "_________________________________________________________________\n",
      "batch_normalization_12 (Batc (None, 227, 227, 64)      256       \n",
      "_________________________________________________________________\n",
      "max_pooling2d_14 (MaxPooling (None, 114, 114, 64)      0         \n",
      "_________________________________________________________________\n",
      "conv2d_13 (Conv2D)           (None, 114, 114, 64)      102464    \n",
      "_________________________________________________________________\n",
      "re_lu_16 (ReLU)              (None, 114, 114, 64)      0         \n",
      "_________________________________________________________________\n",
      "batch_normalization_13 (Batc (None, 114, 114, 64)      256       \n",
      "_________________________________________________________________\n",
      "max_pooling2d_15 (MaxPooling (None, 57, 57, 64)        0         \n",
      "_________________________________________________________________\n",
      "conv2d_14 (Conv2D)           (None, 57, 57, 128)       204928    \n",
      "_________________________________________________________________\n",
      "re_lu_17 (ReLU)              (None, 57, 57, 128)       0         \n",
      "_________________________________________________________________\n",
      "batch_normalization_14 (Batc (None, 57, 57, 128)       512       \n",
      "_________________________________________________________________\n",
      "max_pooling2d_16 (MaxPooling (None, 28, 28, 128)       0         \n",
      "_________________________________________________________________\n",
      "conv2d_15 (Conv2D)           (None, 28, 28, 256)       295168    \n",
      "_________________________________________________________________\n",
      "re_lu_18 (ReLU)              (None, 28, 28, 256)       0         \n",
      "_________________________________________________________________\n",
      "batch_normalization_15 (Batc (None, 28, 28, 256)       1024      \n",
      "_________________________________________________________________\n",
      "max_pooling2d_17 (MaxPooling (None, 14, 14, 256)       0         \n",
      "_________________________________________________________________\n",
      "conv2d_16 (Conv2D)           (None, 14, 14, 512)       1180160   \n",
      "_________________________________________________________________\n",
      "re_lu_19 (ReLU)              (None, 14, 14, 512)       0         \n",
      "_________________________________________________________________\n",
      "batch_normalization_16 (Batc (None, 14, 14, 512)       2048      \n",
      "_________________________________________________________________\n",
      "max_pooling2d_18 (MaxPooling (None, 7, 7, 512)         0         \n",
      "_________________________________________________________________\n",
      "conv2d_17 (Conv2D)           (None, 7, 7, 1024)        525312    \n",
      "_________________________________________________________________\n",
      "re_lu_20 (ReLU)              (None, 7, 7, 1024)        0         \n",
      "_________________________________________________________________\n",
      "batch_normalization_17 (Batc (None, 7, 7, 1024)        4096      \n",
      "_________________________________________________________________\n",
      "max_pooling2d_19 (MaxPooling (None, 4, 4, 1024)        0         \n",
      "_________________________________________________________________\n",
      "max_pooling2d_20 (MaxPooling (None, 2, 2, 1024)        0         \n",
      "_________________________________________________________________\n",
      "reshape_2 (Reshape)          (None, 1, 4096)           0         \n",
      "_________________________________________________________________\n",
      "dense_2 (Dense)              (None, 1, 1024)           4195328   \n",
      "_________________________________________________________________\n",
      "re_lu_21 (ReLU)              (None, 1, 1024)           0         \n",
      "_________________________________________________________________\n",
      "dropout_2 (Dropout)          (None, 1, 1024)           0         \n",
      "_________________________________________________________________\n",
      "my_intermediate_layer (Dense (None, 1, 32)             32800     \n",
      "_________________________________________________________________\n",
      "re_lu_22 (ReLU)              (None, 1, 32)             0         \n",
      "_________________________________________________________________\n",
      "my_last_layer (Dense)        (None, 1, 5)              165       \n",
      "=================================================================\n",
      "Total params: 6,549,381\n",
      "Trainable params: 6,545,285\n",
      "Non-trainable params: 4,096\n",
      "_________________________________________________________________\n"
     ]
    }
   ],
   "source": [
    "model.summary()"
   ]
  },
  {
   "cell_type": "code",
   "execution_count": 187,
   "id": "normal-scientist",
   "metadata": {},
   "outputs": [],
   "source": [
    "model.compile(optimizer=Optimizer.Adam(lr=0.00005),loss='sparse_categorical_crossentropy',metrics=['accuracy'])"
   ]
  },
  {
   "cell_type": "code",
   "execution_count": 188,
   "id": "accepted-uruguay",
   "metadata": {},
   "outputs": [
    {
     "name": "stdout",
     "output_type": "stream",
     "text": [
      "Epoch 1/30\n",
      "12/12 [==============================] - 6s 475ms/step - loss: 3.4634 - accuracy: 0.3181 - val_loss: 3.1041 - val_accuracy: 0.4048\n",
      "Epoch 2/30\n",
      "12/12 [==============================] - 4s 369ms/step - loss: 2.5774 - accuracy: 0.3504 - val_loss: 3.9993 - val_accuracy: 0.4524\n",
      "Epoch 3/30\n",
      "12/12 [==============================] - 4s 369ms/step - loss: 2.2905 - accuracy: 0.3666 - val_loss: 2.4532 - val_accuracy: 0.4286\n",
      "Epoch 4/30\n",
      "12/12 [==============================] - 4s 369ms/step - loss: 2.3875 - accuracy: 0.4205 - val_loss: 2.8394 - val_accuracy: 0.5238\n",
      "Epoch 5/30\n",
      "12/12 [==============================] - 4s 370ms/step - loss: 2.3108 - accuracy: 0.3720 - val_loss: 3.6137 - val_accuracy: 0.4286\n",
      "Epoch 6/30\n",
      "12/12 [==============================] - 4s 370ms/step - loss: 2.3130 - accuracy: 0.3935 - val_loss: 2.9128 - val_accuracy: 0.4524\n",
      "Epoch 7/30\n",
      "12/12 [==============================] - 4s 370ms/step - loss: 2.0884 - accuracy: 0.4205 - val_loss: 1.7207 - val_accuracy: 0.3571\n",
      "Epoch 8/30\n",
      "12/12 [==============================] - 4s 371ms/step - loss: 2.1212 - accuracy: 0.3989 - val_loss: 1.9449 - val_accuracy: 0.4048\n",
      "Epoch 9/30\n",
      "12/12 [==============================] - 4s 370ms/step - loss: 1.9006 - accuracy: 0.4043 - val_loss: 1.6024 - val_accuracy: 0.2857\n",
      "Epoch 10/30\n",
      "12/12 [==============================] - 4s 371ms/step - loss: 1.9558 - accuracy: 0.3827 - val_loss: 1.6731 - val_accuracy: 0.4762\n",
      "Epoch 11/30\n",
      "12/12 [==============================] - 4s 371ms/step - loss: 1.8857 - accuracy: 0.4043 - val_loss: 1.6726 - val_accuracy: 0.4762\n",
      "Epoch 12/30\n",
      "12/12 [==============================] - 4s 370ms/step - loss: 1.7337 - accuracy: 0.4367 - val_loss: 1.7081 - val_accuracy: 0.3571\n",
      "Epoch 13/30\n",
      "12/12 [==============================] - 4s 371ms/step - loss: 1.6316 - accuracy: 0.4420 - val_loss: 1.7324 - val_accuracy: 0.3333\n",
      "Epoch 14/30\n",
      "12/12 [==============================] - 4s 371ms/step - loss: 1.9173 - accuracy: 0.4232 - val_loss: 2.0177 - val_accuracy: 0.3333\n",
      "Epoch 15/30\n",
      "12/12 [==============================] - 4s 371ms/step - loss: 1.7722 - accuracy: 0.4016 - val_loss: 1.8041 - val_accuracy: 0.4286\n",
      "Epoch 16/30\n",
      "12/12 [==============================] - 4s 371ms/step - loss: 1.6923 - accuracy: 0.4340 - val_loss: 1.7891 - val_accuracy: 0.4762\n",
      "Epoch 17/30\n",
      "12/12 [==============================] - 4s 372ms/step - loss: 1.5138 - accuracy: 0.4825 - val_loss: 1.5529 - val_accuracy: 0.4286\n",
      "Epoch 18/30\n",
      "12/12 [==============================] - 4s 371ms/step - loss: 1.4787 - accuracy: 0.4447 - val_loss: 1.5582 - val_accuracy: 0.3571\n",
      "Epoch 19/30\n",
      "12/12 [==============================] - 4s 371ms/step - loss: 1.5744 - accuracy: 0.4205 - val_loss: 1.7262 - val_accuracy: 0.5000\n",
      "Epoch 20/30\n",
      "12/12 [==============================] - 5s 377ms/step - loss: 1.4257 - accuracy: 0.4663 - val_loss: 1.6158 - val_accuracy: 0.4762\n",
      "Epoch 21/30\n",
      "12/12 [==============================] - 4s 371ms/step - loss: 1.3870 - accuracy: 0.4933 - val_loss: 1.4844 - val_accuracy: 0.4048\n",
      "Epoch 22/30\n",
      "12/12 [==============================] - 4s 371ms/step - loss: 1.5022 - accuracy: 0.4663 - val_loss: 1.5740 - val_accuracy: 0.5000\n",
      "Epoch 23/30\n",
      "12/12 [==============================] - 4s 371ms/step - loss: 1.5049 - accuracy: 0.4340 - val_loss: 1.6946 - val_accuracy: 0.4524\n",
      "Epoch 24/30\n",
      "12/12 [==============================] - 4s 372ms/step - loss: 1.4368 - accuracy: 0.4825 - val_loss: 1.6635 - val_accuracy: 0.4524\n",
      "Epoch 25/30\n",
      "12/12 [==============================] - 4s 371ms/step - loss: 1.4483 - accuracy: 0.4906 - val_loss: 1.5423 - val_accuracy: 0.4048\n",
      "Epoch 26/30\n",
      "12/12 [==============================] - 4s 372ms/step - loss: 1.3568 - accuracy: 0.5175 - val_loss: 1.6064 - val_accuracy: 0.5476\n",
      "Epoch 27/30\n",
      "12/12 [==============================] - 4s 372ms/step - loss: 1.4804 - accuracy: 0.4771 - val_loss: 1.9350 - val_accuracy: 0.3571\n",
      "Epoch 28/30\n",
      "12/12 [==============================] - 4s 371ms/step - loss: 1.4527 - accuracy: 0.4852 - val_loss: 1.6975 - val_accuracy: 0.5238\n",
      "Epoch 29/30\n",
      "12/12 [==============================] - 4s 371ms/step - loss: 1.3791 - accuracy: 0.5094 - val_loss: 2.0117 - val_accuracy: 0.4524\n",
      "Epoch 30/30\n",
      "12/12 [==============================] - 4s 371ms/step - loss: 1.3501 - accuracy: 0.4663 - val_loss: 1.7716 - val_accuracy: 0.4286\n"
     ]
    }
   ],
   "source": [
    "# Train\n",
    "trained = model.fit(train_data,train_labels,epochs=30,validation_split=0.10)"
   ]
  },
  {
   "cell_type": "code",
   "execution_count": 189,
   "id": "shared-maria",
   "metadata": {},
   "outputs": [
    {
     "name": "stdout",
     "output_type": "stream",
     "text": [
      "(413, 1, 32)\n"
     ]
    }
   ],
   "source": [
    "# SVM\n",
    "model_feat = Model(inputs=model.input,outputs=model.get_layer('my_intermediate_layer').output)\n",
    "feat_train = model_feat.predict(train_data)\n",
    "print(feat_train.shape)"
   ]
  },
  {
   "cell_type": "code",
   "execution_count": 190,
   "id": "crude-couple",
   "metadata": {},
   "outputs": [],
   "source": [
    "feat_train = feat_train.reshape(413,32)"
   ]
  },
  {
   "cell_type": "code",
   "execution_count": 191,
   "id": "sexual-revelation",
   "metadata": {},
   "outputs": [
    {
     "data": {
      "text/plain": [
       "0.5907990314769975"
      ]
     },
     "execution_count": 191,
     "metadata": {},
     "output_type": "execute_result"
    }
   ],
   "source": [
    "from sklearn.svm import SVC\n",
    "\n",
    "svm = SVC(kernel='rbf')\n",
    "svm.fit(feat_train,train_labels)\n",
    "svm.score(feat_train,train_labels)"
   ]
  }
 ],
 "metadata": {
  "kernelspec": {
   "display_name": "Python 3",
   "language": "python",
   "name": "python3"
  },
  "language_info": {
   "codemirror_mode": {
    "name": "ipython",
    "version": 3
   },
   "file_extension": ".py",
   "mimetype": "text/x-python",
   "name": "python",
   "nbconvert_exporter": "python",
   "pygments_lexer": "ipython3",
   "version": "3.6.12"
  },
  "toc": {
   "base_numbering": 1,
   "nav_menu": {},
   "number_sections": true,
   "sideBar": true,
   "skip_h1_title": false,
   "title_cell": "Table of Contents",
   "title_sidebar": "Contents",
   "toc_cell": false,
   "toc_position": {},
   "toc_section_display": true,
   "toc_window_display": false
  }
 },
 "nbformat": 4,
 "nbformat_minor": 5
}
